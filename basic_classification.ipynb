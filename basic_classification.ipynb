{
  "nbformat": 4,
  "nbformat_minor": 0,
  "metadata": {
    "colab": {
      "name": "basic_classification.ipynb",
      "provenance": [],
      "collapsed_sections": []
    },
    "kernelspec": {
      "name": "python3",
      "display_name": "Python 3"
    }
  },
  "cells": [
    {
      "cell_type": "code",
      "metadata": {
        "id": "YyRW1B2P_j2l",
        "colab_type": "code",
        "colab": {}
      },
      "source": [
        "#this guide will train a neural network in order to classifiy different objects into total 10 categories depending on their features "
      ],
      "execution_count": 0,
      "outputs": []
    },
    {
      "cell_type": "code",
      "metadata": {
        "id": "t5pDk-mF_3PY",
        "colab_type": "code",
        "colab": {
          "base_uri": "https://localhost:8080/",
          "height": 34
        },
        "outputId": "241dd1c2-9ac6-4feb-861d-6ca3c6d54d93"
      },
      "source": [
        "from __future__ import absolute_import,division,print_function,unicode_literals\n",
        "#Tensorflow and tf.keras\n",
        "import tensorflow as tf\n",
        "from tensorflow import keras\n",
        "#helper libraries \n",
        "import numpy as np\n",
        "import matplotlib.pyplot as plt\n",
        "\n",
        "\n",
        "print(tf.__version__)"
      ],
      "execution_count": 33,
      "outputs": [
        {
          "output_type": "stream",
          "text": [
            "1.15.0\n"
          ],
          "name": "stdout"
        }
      ]
    },
    {
      "cell_type": "code",
      "metadata": {
        "id": "1VxAOYPFAbzx",
        "colab_type": "code",
        "colab": {}
      },
      "source": [
        "fashion_mnist = keras.datasets.fashion_mnist\n",
        "#60,000 images will be for training and 10,000 for testing how accurate our algorithm was\n",
        "(train_images,train_labels) , (test_images,test_labels) = fashion_mnist.load_data()"
      ],
      "execution_count": 0,
      "outputs": []
    },
    {
      "cell_type": "code",
      "metadata": {
        "id": "eacwyKQWBKNm",
        "colab_type": "code",
        "colab": {}
      },
      "source": [
        "#the images are 28x28 numpy array(values ranging from 0 to 255) and while their labels are values from 0 to 9 that represents their respective categories\n",
        "class_names = [\"T-shirt/top\",\"Trouser\",\"Pullover\",\"Dress\",\"Coat\",\"Sandal\",\"Shirt\",\"Sneaker\",\"Bag\",\"Ankle boot\"]"
      ],
      "execution_count": 0,
      "outputs": []
    },
    {
      "cell_type": "code",
      "metadata": {
        "id": "TSa6c4bCB5kj",
        "colab_type": "code",
        "colab": {
          "base_uri": "https://localhost:8080/",
          "height": 34
        },
        "outputId": "9232b138-ad5a-4f45-aa62-8856e8f54c97"
      },
      "source": [
        "train_images.shape"
      ],
      "execution_count": 36,
      "outputs": [
        {
          "output_type": "execute_result",
          "data": {
            "text/plain": [
              "(60000, 28, 28)"
            ]
          },
          "metadata": {
            "tags": []
          },
          "execution_count": 36
        }
      ]
    },
    {
      "cell_type": "code",
      "metadata": {
        "id": "BxSLmB58B9ZK",
        "colab_type": "code",
        "colab": {
          "base_uri": "https://localhost:8080/",
          "height": 34
        },
        "outputId": "ea5f8afd-0b3d-48c3-f92c-f24ed4085060"
      },
      "source": [
        "train_labels.shape"
      ],
      "execution_count": 37,
      "outputs": [
        {
          "output_type": "execute_result",
          "data": {
            "text/plain": [
              "(60000,)"
            ]
          },
          "metadata": {
            "tags": []
          },
          "execution_count": 37
        }
      ]
    },
    {
      "cell_type": "code",
      "metadata": {
        "id": "1wKxknMACA1_",
        "colab_type": "code",
        "colab": {
          "base_uri": "https://localhost:8080/",
          "height": 34
        },
        "outputId": "434e9823-61e8-4b46-b8ed-9806aec68b93"
      },
      "source": [
        "test_images.shape"
      ],
      "execution_count": 38,
      "outputs": [
        {
          "output_type": "execute_result",
          "data": {
            "text/plain": [
              "(10000, 28, 28)"
            ]
          },
          "metadata": {
            "tags": []
          },
          "execution_count": 38
        }
      ]
    },
    {
      "cell_type": "code",
      "metadata": {
        "id": "JhQqVKUQCFdz",
        "colab_type": "code",
        "colab": {
          "base_uri": "https://localhost:8080/",
          "height": 34
        },
        "outputId": "351772bf-d354-4ff0-d13e-35b9402aaf52"
      },
      "source": [
        "len(test_labels)"
      ],
      "execution_count": 39,
      "outputs": [
        {
          "output_type": "execute_result",
          "data": {
            "text/plain": [
              "10000"
            ]
          },
          "metadata": {
            "tags": []
          },
          "execution_count": 39
        }
      ]
    },
    {
      "cell_type": "code",
      "metadata": {
        "id": "vG2g-qKECIqk",
        "colab_type": "code",
        "colab": {
          "base_uri": "https://localhost:8080/",
          "height": 265
        },
        "outputId": "f7d04d71-7dbd-4b8e-abe6-772868515656"
      },
      "source": [
        "# Data must be preprocessed before using it to train our neural network and if we inspect the first image then we will come to know that each of the pixel values is in between 0 and 255\n",
        "# and that can be a problem during optimization \n",
        "plt.figure()\n",
        "plt.imshow(train_images[1000])\n",
        "plt.colorbar()\n",
        "plt.grid(False)\n",
        "plt.show()"
      ],
      "execution_count": 40,
      "outputs": [
        {
          "output_type": "display_data",
          "data": {
            "image/png": "[encoded data removed]",
            "text/plain": [
              "<Figure size 432x288 with 2 Axes>"
            ]
          },
          "metadata": {
            "tags": []
          }
        }
      ]
    },
    {
      "cell_type": "code",
      "metadata": {
        "id": "t4HTeESkCqv2",
        "colab_type": "code",
        "colab": {}
      },
      "source": [
        "#scaling the images between 0 and 1\n",
        "train_images = train_images/255.0\n",
        "test_images = test_images/255.0"
      ],
      "execution_count": 0,
      "outputs": []
    },
    {
      "cell_type": "code",
      "metadata": {
        "id": "Dr3JwdHSC24T",
        "colab_type": "code",
        "colab": {
          "base_uri": "https://localhost:8080/",
          "height": 589
        },
        "outputId": "438805e1-dc8a-4df1-9688-e115738168bd"
      },
      "source": [
        "#to verify that the data is correct format let's see the first 25 images\n",
        "plt.figure(figsize=(10,10))\n",
        "for i in range(25):\n",
        "  plt.subplot(5,5,1+i) #plt.subplot(no_rows,no_cols,index)\n",
        "  plt.xticks([]) # to disable the ticks we have passed an empty list\n",
        "  plt.yticks([]) # to disable the list we have passed an empty list\n",
        "  plt.grid(False)\n",
        "  plt.imshow(train_images[i],cmap = plt.cm.binary)  \n",
        "  plt.xlabel(class_names[train_labels[i]])\n",
        "plt.show()\n"
      ],
      "execution_count": 42,
      "outputs": [
        {
          "output_type": "display_data",
          "data": {
            "image/png": "[encoded data removed]",
            "text/plain": [
              "<Figure size 720x720 with 25 Axes>"
            ]
          },
          "metadata": {
            "tags": []
          }
        }
      ]
    },
    {
      "cell_type": "code",
      "metadata": {
        "id": "lPIZ6VZIEGJ7",
        "colab_type": "code",
        "colab": {}
      },
      "source": [
        "#building a model(neural network)\n",
        "model= keras.Sequential([keras.layers.Flatten(input_shape =(28,28)) , keras.layers.Dense(130,'relu') , keras.layers.Dense(10)])"
      ],
      "execution_count": 0,
      "outputs": []
    },
    {
      "cell_type": "code",
      "metadata": {
        "id": "D70fFuqXGnpF",
        "colab_type": "code",
        "colab": {}
      },
      "source": [
        "#the first layers flattens the images pixels values from (28,28) to (784,1) and that  could be fed to the neural network \n",
        "#the second layer is having 128 hidden units and activation function used is 'relu' , while the last layer is softmax layer of 10 nodes"
      ],
      "execution_count": 0,
      "outputs": []
    },
    {
      "cell_type": "code",
      "metadata": {
        "id": "VWtw0rlRHZ_l",
        "colab_type": "code",
        "colab": {}
      },
      "source": [
        "model.compile(optimizer = 'adam',loss=tf.keras.losses.SparseCategoricalCrossentropy(from_logits=True),metrics=[\"accuracy\"])"
      ],
      "execution_count": 0,
      "outputs": []
    },
    {
      "cell_type": "code",
      "metadata": {
        "id": "fXT7fid_Hw0O",
        "colab_type": "code",
        "colab": {
          "base_uri": "https://localhost:8080/",
          "height": 554
        },
        "outputId": "633b397a-5ed3-4cae-f71d-941a7ed665b1"
      },
      "source": [
        "model.fit(train_images,train_labels,epochs=15)"
      ],
      "execution_count": 46,
      "outputs": [
        {
          "output_type": "stream",
          "text": [
            "Train on 60000 samples\n",
            "Epoch 1/15\n",
            "60000/60000 [==============================] - 5s 83us/sample - loss: 0.5018 - acc: 0.8242\n",
            "Epoch 2/15\n",
            "60000/60000 [==============================] - 5s 87us/sample - loss: 0.3829 - acc: 0.8610\n",
            "Epoch 3/15\n",
            "60000/60000 [==============================] - 5s 82us/sample - loss: 0.3385 - acc: 0.8767\n",
            "Epoch 4/15\n",
            "60000/60000 [==============================] - 5s 81us/sample - loss: 0.3155 - acc: 0.8842\n",
            "Epoch 5/15\n",
            "60000/60000 [==============================] - 5s 79us/sample - loss: 0.2976 - acc: 0.8901\n",
            "Epoch 6/15\n",
            "60000/60000 [==============================] - 5s 81us/sample - loss: 0.2829 - acc: 0.8956\n",
            "Epoch 7/15\n",
            "60000/60000 [==============================] - 5s 80us/sample - loss: 0.2726 - acc: 0.8992\n",
            "Epoch 8/15\n",
            "60000/60000 [==============================] - 5s 80us/sample - loss: 0.2597 - acc: 0.9046\n",
            "Epoch 9/15\n",
            "60000/60000 [==============================] - 5s 83us/sample - loss: 0.2507 - acc: 0.9071\n",
            "Epoch 10/15\n",
            "60000/60000 [==============================] - 5s 79us/sample - loss: 0.2446 - acc: 0.9092\n",
            "Epoch 11/15\n",
            "60000/60000 [==============================] - 5s 81us/sample - loss: 0.2343 - acc: 0.9125\n",
            "Epoch 12/15\n",
            "60000/60000 [==============================] - 5s 81us/sample - loss: 0.2275 - acc: 0.9144\n",
            "Epoch 13/15\n",
            "60000/60000 [==============================] - 5s 83us/sample - loss: 0.2215 - acc: 0.9173\n",
            "Epoch 14/15\n",
            "60000/60000 [==============================] - 5s 80us/sample - loss: 0.2132 - acc: 0.9191\n",
            "Epoch 15/15\n",
            "60000/60000 [==============================] - 5s 87us/sample - loss: 0.2087 - acc: 0.9217\n"
          ],
          "name": "stdout"
        },
        {
          "output_type": "execute_result",
          "data": {
            "text/plain": [
              "<tensorflow.python.keras.callbacks.History at 0x7f091f4bd978>"
            ]
          },
          "metadata": {
            "tags": []
          },
          "execution_count": 46
        }
      ]
    },
    {
      "cell_type": "code",
      "metadata": {
        "id": "oSSq0DOzH9eC",
        "colab_type": "code",
        "colab": {
          "base_uri": "https://localhost:8080/",
          "height": 67
        },
        "outputId": "b63ff167-a1f2-42bc-a600-98ecedf1859d"
      },
      "source": [
        "test_losses,test_accuracy = model.evaluate(test_images,test_labels,verbose=1)\n",
        "print(\"\\ntest accuracy : \",test_accuracy)"
      ],
      "execution_count": 47,
      "outputs": [
        {
          "output_type": "stream",
          "text": [
            "10000/10000 [==============================] - 0s 42us/sample - loss: 0.3447 - acc: 0.8861\n",
            "\n",
            "test accuracy :  0.8861\n"
          ],
          "name": "stdout"
        }
      ]
    },
    {
      "cell_type": "code",
      "metadata": {
        "id": "AcbEjnRMIitz",
        "colab_type": "code",
        "colab": {}
      },
      "source": [
        "#it turns out that accuracy on the test dataset is less that means the model has overfitten the training dataset , overfitting the model worsen the performance"
      ],
      "execution_count": 0,
      "outputs": []
    },
    {
      "cell_type": "code",
      "metadata": {
        "id": "wFORWxV0I2Da",
        "colab_type": "code",
        "colab": {}
      },
      "source": [
        "predictions = model.predict(test_images)"
      ],
      "execution_count": 0,
      "outputs": []
    },
    {
      "cell_type": "code",
      "metadata": {
        "id": "k06opDbDI7cH",
        "colab_type": "code",
        "colab": {
          "base_uri": "https://localhost:8080/",
          "height": 67
        },
        "outputId": "9fb901ae-7ba2-4b31-9912-24de3af3a237"
      },
      "source": [
        "predictions[0]"
      ],
      "execution_count": 50,
      "outputs": [
        {
          "output_type": "execute_result",
          "data": {
            "text/plain": [
              "array([-15.031742 , -14.540614 , -19.112017 , -21.067022 , -11.994138 ,\n",
              "        -4.8558626, -10.283721 ,   1.2400706, -15.311123 ,   5.83325  ],\n",
              "      dtype=float32)"
            ]
          },
          "metadata": {
            "tags": []
          },
          "execution_count": 50
        }
      ]
    },
    {
      "cell_type": "code",
      "metadata": {
        "id": "f1e2qqxfI9Oe",
        "colab_type": "code",
        "colab": {
          "base_uri": "https://localhost:8080/",
          "height": 34
        },
        "outputId": "685d525c-295c-4054-b904-eb8819b15bf5"
      },
      "source": [
        "#prediction is the array of 10 numbers that represent the confidence value on that particular label\n",
        "np.argmax(predictions[0])"
      ],
      "execution_count": 51,
      "outputs": [
        {
          "output_type": "execute_result",
          "data": {
            "text/plain": [
              "9"
            ]
          },
          "metadata": {
            "tags": []
          },
          "execution_count": 51
        }
      ]
    },
    {
      "cell_type": "code",
      "metadata": {
        "id": "ET6V_GeoJO9V",
        "colab_type": "code",
        "colab": {
          "base_uri": "https://localhost:8080/",
          "height": 34
        },
        "outputId": "f57e06a4-e3db-4a21-948c-df346e510e5a"
      },
      "source": [
        "#so the model is more confident that image is ankle boot \n",
        "test_labels[0]"
      ],
      "execution_count": 52,
      "outputs": [
        {
          "output_type": "execute_result",
          "data": {
            "text/plain": [
              "9"
            ]
          },
          "metadata": {
            "tags": []
          },
          "execution_count": 52
        }
      ]
    },
    {
      "cell_type": "code",
      "metadata": {
        "id": "xuHA8IEMJY1y",
        "colab_type": "code",
        "colab": {}
      },
      "source": [
        "#in order to look at the full set of 10 class predictions \n",
        "def plot_image(i,predictions_array , true_lable,img):\n",
        "  predictions_array, true_label, img = predictions_array, true_label[i], img[i]\n",
        "  plt.grid(False)\n",
        "  plt.xticks([])\n",
        "  plt.yticks([])\n",
        "  plt.imshow(img,cmap = plt.cm.binary)\n",
        "  predicted_label = np.argmax(predictions_array)\n",
        "  if predicted_label==true_label:\n",
        "    color = 'blue'\n",
        "  else :\n",
        "    color = \"red\"\n",
        "  plt.xlabel(\"{} {2.0f}% ({})\".format(class_names[predicted_label] , 100*np.argmax(predicted_array),class_names[true_label]) , color=color)\n",
        "def plot_value_array(i,predictions_array,true_label):\n",
        "  predictions_array,true_label = predictions_array , true_label[i]\n",
        "  plt.grid(False)\n",
        "  plt.xticks(range(10))\n",
        "  plt.yticks([])\n",
        "  thisplot = plt.bar(range(10),predictions_array,color=\"#7777\")\n",
        "  plt.ylim([0,1])\n",
        "  predicted_label = np.argmax(predictions_array)\n",
        "\n",
        "  thisplot[predicted_label].set_color(\"red\")\n",
        "  thisplot[true_label].set_color(\"blue\")"
      ],
      "execution_count": 0,
      "outputs": []
    },
    {
      "cell_type": "code",
      "metadata": {
        "id": "TBsE5j43SUb-",
        "colab_type": "code",
        "colab": {}
      },
      "source": [
        ""
      ],
      "execution_count": 0,
      "outputs": []
    }
  ]
}